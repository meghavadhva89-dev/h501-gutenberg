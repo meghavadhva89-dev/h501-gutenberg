{
 "cells": [
  {
   "cell_type": "code",
   "execution_count": null,
   "id": "a0fc0d91",
   "metadata": {},
   "outputs": [],
   "source": [
    "from tt_gutenberg.authors import list_authors\n",
    "\n",
    "list_authors(by_languages=True, alias=True)\n",
    "\n"
   ]
  }
 ],
 "metadata": {
  "kernelspec": {
   "display_name": "h501-gutenberg",
   "language": "python",
   "name": "python3"
  },
  "language_info": {
   "name": "python",
   "version": "3.11.13"
  }
 },
 "nbformat": 4,
 "nbformat_minor": 5
}
